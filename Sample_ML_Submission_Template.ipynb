{
 "cells": [
  {
   "cell_type": "markdown",
   "metadata": {
    "id": "vncDsAP0Gaoa"
   },
   "source": [
    "# **Project Name**    - ***Amazon Delivery Time Prediction***\n",
    "\n"
   ]
  },
  {
   "cell_type": "markdown",
   "metadata": {
    "id": "beRrZCGUAJYm"
   },
   "source": [
    "##### **Project Type:**  Supervised Regression\n",
    "##### **Contribution:**  Individual\n",
    "##### **Team Member 1:** Mainak Ghosh\n",
    "##### **Domain:** E-Commerce and Logictics"
   ]
  },
  {
   "cell_type": "markdown",
   "metadata": {
    "id": "FJNUwmbgGyua"
   },
   "source": [
    "# **Project Summary -**"
   ]
  },
  {
   "cell_type": "markdown",
   "metadata": {
    "id": "F6v_1wHtG2nS"
   },
   "source": [
    "The primary objective of this project is to build an accurate predictive model for **Amazon Delivery Times**. Using the provided logistics dataset, the project covers the full machine learning lifecycle:\n",
    "1.  **Data Preparation**: Comprehensive cleaning to handle missing values and inconsistent data types.\n",
    "2.  **Feature Engineering**: Creation of critical features, notably the **Haversine Distance** between store and drop-off locations, and time-based variables.\n",
    "3.  **Model Training**: Development and evaluation of multiple regression models (Linear Regression, Decision Tree, Random Forest).\n",
    "4.  **Experiment Tracking**: Utilization of **MLflow** to track and compare model performance using metrics like **RMSE**, **MAE**, and **R-squared**.\n",
    "5.  **Deployment**: Creation of a user-friendly prediction interface using **Streamlit**.\n",
    "\n",
    "This submission demonstrates proficiency in Python scripting, data analysis, regression modeling, and MLOps tools."
   ]
  },
  {
   "cell_type": "markdown",
   "metadata": {
    "id": "w6K7xa23Elo4"
   },
   "source": [
    "# **GitHub Link -**"
   ]
  },
  {
   "cell_type": "markdown",
   "metadata": {
    "id": "h1o69JH3Eqqn"
   },
   "source": [
    "Here is the link ... to open [click here ](https://github.com/Maig2005/Amazon_Delivery_Time_Prediction_Project)"
   ]
  },
  {
   "cell_type": "markdown",
   "metadata": {
    "id": "yQaldy8SH6Dl"
   },
   "source": [
    "# **Problem Statement**\n"
   ]
  },
  {
   "cell_type": "markdown",
   "metadata": {
    "id": "DpeJGUA3kjGy"
   },
   "source": [
    "The rapid growth of e-commerce necessitates highly accurate and reliable delivery time estimates to maintain customer satisfaction and optimize logistics operations. Current estimation systems often rely on static averages, which fail to account for dynamic, real-world factors.\n",
    "\n",
    "This project addresses the challenge by aiming to accurately **predict the delivery time** for e-commerce orders by building a robust machine learning regression model.\n",
    "\n",
    "**Key Objectives**\n",
    "\n",
    "1. **Factor Identification:** Analyze the provided dataset to identify the most  influential factors impacting delivery time, including agent performance (Agent_Age, Agent_Rating), environmental conditions (Weather, Traffic), and logistical distance.\n",
    "\n",
    "2. **Feature Engineering:** Derive critical features not explicitly present in the raw data, such as the Haversine Distance between the store and drop-off coordinates, and temporal patterns (Day_of_Week, Order_Hour).\n",
    "\n",
    "3. **Model Development:** Build, evaluate, and compare multiple regression models (e.g., Linear Regression, Decision Tree, Random Forest) to find the best predictor of Delivery_Time.\n",
    "\n",
    "4. **Operationalization:** Create a **Streamlit application** that allows a user to input new order parameters and receive a precise, model-driven delivery time forecast.\n",
    "\n",
    "The successful completion of this project will provide a data-driven solution for enhancing delivery logistics, improving operational efficiency, and significantly boosting the customer experience."
   ]
  },
  {
   "cell_type": "markdown",
   "metadata": {
    "id": "mDgbUHAGgjLW"
   },
   "source": [
    "# **General Guidelines** : -  "
   ]
  },
  {
   "cell_type": "markdown",
   "metadata": {
    "id": "ZrxVaUj-hHfC"
   },
   "source": [
    "1.   Well-structured, formatted, and commented code is required.\n",
    "2.   Exception Handling, Production Grade Code & Deployment Ready Code will be a plus. Those students will be awarded some additional credits.\n",
    "     \n",
    "     The additional credits will have advantages over other students during Star Student selection.\n",
    "       \n",
    "             [ Note: - Deployment Ready Code is defined as, the whole .ipynb notebook should be executable in one go\n",
    "                       without a single error logged. ]\n",
    "\n",
    "3.   Each and every logic should have proper comments.\n",
    "4. You may add as many number of charts you want. Make Sure for each and every chart the following format should be answered.\n",
    "        \n",
    "\n",
    "```\n",
    "# Chart visualization code\n",
    "```\n",
    "            \n",
    "\n",
    "*   Why did you pick the specific chart?\n",
    "*   What is/are the insight(s) found from the chart?\n",
    "* Will the gained insights help creating a positive business impact?\n",
    "Are there any insights that lead to negative growth? Justify with specific reason.\n",
    "\n",
    "5. You have to create at least 15 logical & meaningful charts having important insights.\n",
    "\n",
    "\n",
    "[ Hints : - Do the Vizualization in  a structured way while following \"UBM\" Rule.\n",
    "\n",
    "U - Univariate Analysis,\n",
    "\n",
    "B - Bivariate Analysis (Numerical - Categorical, Numerical - Numerical, Categorical - Categorical)\n",
    "\n",
    "M - Multivariate Analysis\n",
    " ]\n",
    "\n",
    "\n",
    "\n",
    "\n",
    "\n",
    "6. You may add more ml algorithms for model creation. Make sure for each and every algorithm, the following format should be answered.\n",
    "\n",
    "\n",
    "*   Explain the ML Model used and it's performance using Evaluation metric Score Chart.\n",
    "\n",
    "\n",
    "*   Cross- Validation & Hyperparameter Tuning\n",
    "\n",
    "*   Have you seen any improvement? Note down the improvement with updates Evaluation metric Score Chart.\n",
    "\n",
    "*   Explain each evaluation metric's indication towards business and the business impact pf the ML model used.\n",
    "\n",
    "\n",
    "\n",
    "\n",
    "\n",
    "\n",
    "\n",
    "\n",
    "\n",
    "\n",
    "\n",
    "\n",
    "\n",
    "\n",
    "\n",
    "\n",
    "\n",
    "\n"
   ]
  },
  {
   "cell_type": "markdown",
   "metadata": {
    "id": "O_i_v8NEhb9l"
   },
   "source": [
    "# ***Let's Begin !***"
   ]
  },
  {
   "cell_type": "markdown",
   "metadata": {
    "id": "HhfV-JJviCcP"
   },
   "source": [
    "## ***1. Know Your Data***"
   ]
  },
  {
   "cell_type": "markdown",
   "metadata": {
    "id": "Y3lxredqlCYt"
   },
   "source": [
    "### Import Libraries"
   ]
  },
  {
   "cell_type": "code",
   "execution_count": 35,
   "metadata": {
    "id": "M8Vqi-pPk-HR"
   },
   "outputs": [],
   "source": [
    "import pandas as pd\n",
    "import numpy as np\n",
    "\n",
    "# --- Visualization Libraries (for EDA) ---\n",
    "import seaborn as sns\n",
    "import matplotlib.pyplot as plt\n",
    "\n",
    "# --- Machine Learning Libraries (Scikit-learn) ---\n",
    "from sklearn.model_selection import train_test_split\n",
    "from sklearn.preprocessing import StandardScaler, OneHotEncoder\n",
    "from sklearn.compose import ColumnTransformer\n",
    "from sklearn.pipeline import Pipeline\n",
    "from sklearn.metrics import mean_squared_error, mean_absolute_error, r2_score\n",
    "from sklearn.linear_model import LinearRegression\n",
    "from sklearn.tree import DecisionTreeRegressor\n",
    "from sklearn.ensemble import RandomForestRegressor\n",
    "\n",
    "# --- Regression Models ---\n",
    "from sklearn.linear_model import LinearRegression\n",
    "from sklearn.tree import DecisionTreeRegressor\n",
    "from sklearn.ensemble import RandomForestRegressor\n",
    "\n",
    "# --- MLOps and Model Persistence ---\n",
    "import mlflow\n",
    "import joblib # Used to save the final model pipeline\n",
    "\n",
    "# Set visualization style and allow plots to appear inline\n",
    "sns.set_style('whitegrid') \n",
    "%matplotlib inline"
   ]
  },
  {
   "cell_type": "markdown",
   "metadata": {
    "id": "3RnN4peoiCZX"
   },
   "source": [
    "### Dataset Loading"
   ]
  },
  {
   "cell_type": "code",
   "execution_count": 7,
   "metadata": {
    "id": "4CkvbW_SlZ_R"
   },
   "outputs": [],
   "source": [
    "# Use the full absolute path to the file\n",
    "RAW_DATA_PATH = 'C:/Users/maina/OneDrive/Desktop/Labmentix/amazon_delivery_prediction_project/data/raw/amazon_delivery.csv'\n",
    "\n",
    "try:\n",
    "    # Load the dataset using the full path\n",
    "    df = pd.read_csv(RAW_DATA_PATH)\n",
    "    \n",
    "    # ... rest of your code ...\n",
    "\n",
    "except FileNotFoundError:\n",
    "    print(f\"Error: The file '{RAW_DATA_PATH}' was not found. Check the path for typos.\")"
   ]
  },
  {
   "cell_type": "markdown",
   "metadata": {
    "id": "x71ZqKXriCWQ"
   },
   "source": [
    "### Dataset First View"
   ]
  },
  {
   "cell_type": "code",
   "execution_count": 8,
   "metadata": {
    "id": "LWNFOSvLl09H"
   },
   "outputs": [
    {
     "name": "stdout",
     "output_type": "stream",
     "text": [
      "Dataset Shape: (43739, 16)\n",
      "\n",
      "--- Column Data Types and Non-Null Counts ---\n",
      "<class 'pandas.core.frame.DataFrame'>\n",
      "RangeIndex: 43739 entries, 0 to 43738\n",
      "Data columns (total 16 columns):\n",
      " #   Column           Non-Null Count  Dtype  \n",
      "---  ------           --------------  -----  \n",
      " 0   Order_ID         43739 non-null  object \n",
      " 1   Agent_Age        43739 non-null  int64  \n",
      " 2   Agent_Rating     43685 non-null  float64\n",
      " 3   Store_Latitude   43739 non-null  float64\n",
      " 4   Store_Longitude  43739 non-null  float64\n",
      " 5   Drop_Latitude    43739 non-null  float64\n",
      " 6   Drop_Longitude   43739 non-null  float64\n",
      " 7   Order_Date       43739 non-null  object \n",
      " 8   Order_Time       43739 non-null  object \n",
      " 9   Pickup_Time      43739 non-null  object \n",
      " 10  Weather          43648 non-null  object \n",
      " 11  Traffic          43739 non-null  object \n",
      " 12  Vehicle          43739 non-null  object \n",
      " 13  Area             43739 non-null  object \n",
      " 14  Delivery_Time    43739 non-null  int64  \n",
      " 15  Category         43739 non-null  object \n",
      "dtypes: float64(5), int64(2), object(9)\n",
      "memory usage: 5.3+ MB\n",
      "\n",
      "--- Missing Value Count by Column (Initial) ---\n",
      "Weather         91\n",
      "Agent_Rating    54\n",
      "dtype: int64\n"
     ]
    }
   ],
   "source": [
    "# The DataFrame 'df' is now loaded and available.\n",
    "\n",
    "print(f\"Dataset Shape: {df.shape}\")\n",
    "print(\"\\n--- Column Data Types and Non-Null Counts ---\")\n",
    "df.info()\n",
    "\n",
    "print(\"\\n--- Missing Value Count by Column (Initial) ---\")\n",
    "missing_values = df.isnull().sum().sort_values(ascending=False)\n",
    "# Display only columns with missing values\n",
    "print(missing_values[missing_values > 0])"
   ]
  },
  {
   "cell_type": "markdown",
   "metadata": {
    "id": "7hBIi_osiCS2"
   },
   "source": [
    "### Dataset Rows & Columns count"
   ]
  },
  {
   "cell_type": "code",
   "execution_count": 9,
   "metadata": {
    "id": "Kllu7SJgmLij"
   },
   "outputs": [
    {
     "name": "stdout",
     "output_type": "stream",
     "text": [
      "Total Number of Rows (Orders): 43739\n",
      "Total Number of Columns (Features): 16\n"
     ]
    }
   ],
   "source": [
    "# The .shape attribute returns a tuple: (number of rows, number of columns)\n",
    "rows, columns = df.shape\n",
    "\n",
    "print(f\"Total Number of Rows (Orders): {rows}\")\n",
    "print(f\"Total Number of Columns (Features): {columns}\")"
   ]
  },
  {
   "cell_type": "markdown",
   "metadata": {
    "id": "JlHwYmJAmNHm"
   },
   "source": [
    "### Dataset Information"
   ]
  },
  {
   "cell_type": "code",
   "execution_count": 10,
   "metadata": {
    "id": "e9hRXRi6meOf"
   },
   "outputs": [
    {
     "name": "stdout",
     "output_type": "stream",
     "text": [
      "--- Detailed Dataset Information ---\n",
      "<class 'pandas.core.frame.DataFrame'>\n",
      "RangeIndex: 43739 entries, 0 to 43738\n",
      "Data columns (total 16 columns):\n",
      " #   Column           Non-Null Count  Dtype  \n",
      "---  ------           --------------  -----  \n",
      " 0   Order_ID         43739 non-null  object \n",
      " 1   Agent_Age        43739 non-null  int64  \n",
      " 2   Agent_Rating     43685 non-null  float64\n",
      " 3   Store_Latitude   43739 non-null  float64\n",
      " 4   Store_Longitude  43739 non-null  float64\n",
      " 5   Drop_Latitude    43739 non-null  float64\n",
      " 6   Drop_Longitude   43739 non-null  float64\n",
      " 7   Order_Date       43739 non-null  object \n",
      " 8   Order_Time       43739 non-null  object \n",
      " 9   Pickup_Time      43739 non-null  object \n",
      " 10  Weather          43648 non-null  object \n",
      " 11  Traffic          43739 non-null  object \n",
      " 12  Vehicle          43739 non-null  object \n",
      " 13  Area             43739 non-null  object \n",
      " 14  Delivery_Time    43739 non-null  int64  \n",
      " 15  Category         43739 non-null  object \n",
      "dtypes: float64(5), int64(2), object(9)\n",
      "memory usage: 5.3+ MB\n",
      "\n",
      "--- Missing Value Summary ---\n",
      "Weather         91\n",
      "Agent_Rating    54\n",
      "dtype: int64\n"
     ]
    }
   ],
   "source": [
    "print(\"--- Detailed Dataset Information ---\")\n",
    "df.info()\n",
    "\n",
    "print(\"\\n--- Missing Value Summary ---\")\n",
    "missing_values = df.isnull().sum().sort_values(ascending=False)\n",
    "print(missing_values[missing_values > 0])"
   ]
  },
  {
   "cell_type": "markdown",
   "metadata": {
    "id": "35m5QtbWiB9F"
   },
   "source": [
    "#### Duplicate Values"
   ]
  },
  {
   "cell_type": "code",
   "execution_count": 11,
   "metadata": {
    "id": "1sLdpKYkmox0"
   },
   "outputs": [
    {
     "name": "stdout",
     "output_type": "stream",
     "text": [
      "Total number of duplicate rows found: 0\n",
      "No duplicates found. The dataset is clean in this regard.\n"
     ]
    }
   ],
   "source": [
    "# 1. Check for Duplicate Rows\n",
    "# The .duplicated().sum() method counts how many rows are exact duplicates of a preceding row.\n",
    "duplicate_count = df.duplicated().sum()\n",
    "\n",
    "print(f\"Total number of duplicate rows found: {duplicate_count}\")\n",
    "\n",
    "# 2. Remove Duplicate Rows\n",
    "if duplicate_count > 0:\n",
    "    # Use inplace=True to modify the DataFrame directly\n",
    "    initial_rows = df.shape[0]\n",
    "    df.drop_duplicates(inplace=True)\n",
    "    \n",
    "    rows_removed = initial_rows - df.shape[0]\n",
    "    print(f\"Successfully removed {rows_removed} duplicate rows.\")\n",
    "    print(f\"New dataset shape: {df.shape}\")\n",
    "else:\n",
    "    print(\"No duplicates found. The dataset is clean in this regard.\")"
   ]
  },
  {
   "cell_type": "markdown",
   "metadata": {
    "id": "PoPl-ycgm1ru"
   },
   "source": [
    "#### Missing Values/Null Values"
   ]
  },
  {
   "cell_type": "code",
   "execution_count": 13,
   "metadata": {
    "id": "GgHWkxvamxVg"
   },
   "outputs": [
    {
     "name": "stdout",
     "output_type": "stream",
     "text": [
      "--- Missing Value Count by Column (Initial Analysis) ---\n",
      "The following columns contain missing data:\n",
      "Weather         91\n",
      "Agent_Rating    54\n",
      "dtype: int64\n"
     ]
    }
   ],
   "source": [
    "print(\"--- Missing Value Count by Column (Initial Analysis) ---\")\n",
    "\n",
    "# 1. Use .isnull() to identify missing values (returns boolean DataFrame)\n",
    "# 2. Use .sum() to count the True values (missing values) for each column\n",
    "missing_values_count = df.isnull().sum().sort_values(ascending=False)\n",
    "\n",
    "# 3. Filter the Series to display only columns where the count is greater than 0\n",
    "columns_with_missing_data = missing_values_count[missing_values_count > 0]\n",
    "\n",
    "if not columns_with_missing_data.empty:\n",
    "    print(\"The following columns contain missing data:\")\n",
    "    print(columns_with_missing_data)\n",
    "else:\n",
    "    print(\"No missing values found in the dataset.\")"
   ]
  },
  {
   "cell_type": "code",
   "execution_count": 15,
   "metadata": {
    "id": "3q5wnI3om9sJ"
   },
   "outputs": [
    {
     "data": {
      "image/png": "[encoded data removed]",
      "text/plain": [
       "<Figure size 1000x600 with 1 Axes>"
      ]
     },
     "metadata": {},
     "output_type": "display_data"
    }
   ],
   "source": [
    "# 1. Calculate and filter the missing value counts\n",
    "missing_values_count = df.isnull().sum().sort_values(ascending=False)\n",
    "columns_with_missing_data = missing_values_count[missing_values_count > 0]\n",
    "\n",
    "if not columns_with_missing_data.empty:\n",
    "    # 2. Setup the plot area\n",
    "    plt.figure(figsize=(10, 6))\n",
    "    \n",
    "    # 3. Create the bar plot using seaborn\n",
    "    # FIX: Assign the x variable to 'hue' and set 'legend=False' to remove the warning.\n",
    "    sns.barplot(\n",
    "        x=columns_with_missing_data.index,\n",
    "        y=columns_with_missing_data.values,\n",
    "        hue=columns_with_missing_data.index, # Pass the x variable (column names) to hue\n",
    "        palette=\"viridis\",\n",
    "        legend=False # Suppress the redundant legend\n",
    "    )\n",
    "    \n",
    "    # 4. Add titles and labels\n",
    "    plt.title('Count of Missing Values by Column', fontsize=16)\n",
    "    plt.xlabel('Columns', fontsize=12)\n",
    "    plt.ylabel('Missing Count', fontsize=12)\n",
    "    plt.xticks(rotation=45, ha='right')\n",
    "    plt.tight_layout()\n",
    "    plt.show()\n",
    "\n",
    "else:\n",
    "    print(\"No missing values to plot. Proceeding to the next step.\")"
   ]
  },
  {
   "cell_type": "markdown",
   "metadata": {
    "id": "H0kj-8xxnORC"
   },
   "source": [
    "### What did you know about your dataset?"
   ]
  },
  {
   "cell_type": "markdown",
   "metadata": {
    "id": "gfoNAAC-nUe_"
   },
   "source": [
    "The information below summarizes the structure, known issues, and preprocessing requirements of the Amazon Delivery Time Prediction dataset:\n",
    "\n",
    "- **Goal**: The project is a Supervised Regression task focused on predicting the target variable, Delivery_Time (in minutes).\n",
    "\n",
    "- **Size**: The dataset contains approximately 43,739 rows and 16 columns of data.\n",
    "\n",
    "- **Missing Data**: The column Agent_Age contains missing values which must be handled, likely through mean imputation.\n",
    "\n",
    "- **Data Type Issue**: The target variable, Delivery_Time, is incorrectly loaded as a string (object) and must be converted to a numeric type (integer or float).\n",
    "\n",
    "- **Feature Engineering (Distance)**: It is mandatory to calculate the Haversine Distance between the store and drop-off coordinates to create the crucial Distance_km feature.\n",
    "\n",
    "- **Feature Engineering (Time)**: Date and time columns (Order_Date, Order_Time) are strings and require conversion to extract temporal features like Day of Week and Order Hour.\n",
    "\n",
    "- **Categorical Encoding**: All remaining categorical features (Weather, Traffic, Category) must be prepared using One-Hot Encoding before model training."
   ]
  },
  {
   "cell_type": "markdown",
   "metadata": {
    "id": "nA9Y7ga8ng1Z"
   },
   "source": [
    "## ***2. Understanding Your Variables***"
   ]
  },
  {
   "cell_type": "code",
   "execution_count": 16,
   "metadata": {
    "id": "j7xfkqrt5Ag5"
   },
   "outputs": [
    {
     "name": "stdout",
     "output_type": "stream",
     "text": [
      "--- Summary Statistics for Numerical Variables (Pre-Cleaning) ---\n",
      "                   count        mean        std        min        25%  \\\n",
      "Agent_Age        43739.0   29.567137   5.815155  15.000000  25.000000   \n",
      "Agent_Rating     43685.0    4.633780   0.334716   1.000000   4.500000   \n",
      "Store_Latitude   43739.0   17.210960   7.764225 -30.902872  12.933298   \n",
      "Store_Longitude  43739.0   70.661177  21.475005 -88.366217  73.170283   \n",
      "Drop_Latitude    43739.0   17.459031   7.342950   0.010000  12.985996   \n",
      "Drop_Longitude   43739.0   70.821842  21.153148   0.010000  73.280000   \n",
      "Delivery_Time    43739.0  124.905645  51.915451  10.000000  90.000000   \n",
      "\n",
      "                        50%         75%         max  \n",
      "Agent_Age         30.000000   35.000000   50.000000  \n",
      "Agent_Rating       4.700000    4.900000    6.000000  \n",
      "Store_Latitude    18.551440   22.732225   30.914057  \n",
      "Store_Longitude   75.898497   78.045359   88.433452  \n",
      "Drop_Latitude     18.633626   22.785049   31.054057  \n",
      "Drop_Longitude    76.002574   78.104095   88.563452  \n",
      "Delivery_Time    125.000000  160.000000  270.000000  \n",
      "\n",
      "--- Unique Value Counts for Categorical Variables ---\n",
      "Column: Order_Date (Unique Count: 44)\n",
      "Column: Order_Time (Unique Count: 177)\n",
      "Column: Pickup_Time (Unique Count: 193)\n",
      "Column: Weather (Unique Count: 6)\n",
      "Column: Traffic (Unique Count: 5)\n",
      "Column: Vehicle (Unique Count: 4)\n",
      "Column: Area (Unique Count: 4)\n",
      "Column: Category (Unique Count: 16)\n"
     ]
    }
   ],
   "source": [
    "# --- A. Summary Statistics for Numerical Variables ---\n",
    "print(\"--- Summary Statistics for Numerical Variables (Pre-Cleaning) ---\")\n",
    "# Select only numerical columns (int64 and float64)\n",
    "numerical_df = df.select_dtypes(include=['int64', 'float64'])\n",
    "\n",
    "# Generate and print the summary statistics\n",
    "print(numerical_df.describe().T)\n",
    "\n",
    "# --- B. Unique Value Counts for Categorical Variables (High-Level Check) ---\n",
    "print(\"\\n--- Unique Value Counts for Categorical Variables ---\")\n",
    "# Select only categorical/object columns\n",
    "categorical_cols = df.select_dtypes(include=['object']).columns\n",
    "\n",
    "for col in categorical_cols:\n",
    "    # Skip Order_ID and the target Delivery_Time for this high-level count\n",
    "    if col in ['Order_ID', 'Delivery_Time']:\n",
    "        continue\n",
    "    \n",
    "    # Print the number of unique values for quick check\n",
    "    print(f\"Column: {col} (Unique Count: {df[col].nunique()})\")"
   ]
  },
  {
   "cell_type": "markdown",
   "metadata": {
    "id": "PBTbrJXOngz2"
   },
   "source": [
    "### Variables Description"
   ]
  },
  {
   "cell_type": "markdown",
   "metadata": {
    "id": "aJV4KIxSnxay"
   },
   "source": [
    "**Amazon Delivery Time Prediction Dataset**\n",
    "\n",
    "This dataset contains all factors necessary for predicting the delivery duration, including agent performance, geographical coordinates, temporal information, and environmental conditions.\n",
    "\n",
    "\n",
    "**Agent & Order Details**\n",
    "\n",
    "- **Order_ID**: Unique identifier for each delivery order.\n",
    "- **Agent_Age**: Age of the delivery agent.\n",
    "- **Agent_Rating**: Average performance rating of the agent (1.0 to 5.0).\n",
    "- **Category**: Product category of the order (e.g., Clothing, Electronics).\n",
    "\n",
    "\n",
    "**Location & Distance Metrics**\n",
    "\n",
    "- **Store_Latitude**: Latitude coordinate of the store/pickup location.\n",
    "- **Store_Longitude**: longitude coordinate of the store/pickup location.\n",
    "- **Drop_Latitude**: Latitude coordinate of the final drop-off location.\n",
    "- **Drop_Longitude**: Longitude coordinate of the final drop-off location.\n",
    "\n",
    "\n",
    "**Temporal Details**\n",
    "\n",
    "- Order_Date: The calendar date the order was placed.\n",
    "- Order_Time: The time of day the order was placed.\n",
    "- Pickup_Time: The time the delivery agent picked up the order.\n",
    "\n",
    "\n",
    "**Environmental & Logistics Factors**\n",
    "\n",
    "- **Weather**: Current weather condition at the time of order.\n",
    "- **Traffic**: Traffic density level in the delivery region.\n",
    "- **Vehicle**: Type of vehicle used by the agent (e.g., motorcycle, scooter).\n",
    "- **Area**: Type of delivery region (e.g., Urban, Metropolitian).\n",
    "\n",
    "\n",
    "**Target Variable**\n",
    "\n",
    "- **Delivery_Time**: The total time taken for the delivery in minutes (Target variable).\n"
   ]
  },
  {
   "cell_type": "markdown",
   "metadata": {
    "id": "u3PMJOP6ngxN"
   },
   "source": [
    "### Check Unique Values for each variable."
   ]
  },
  {
   "cell_type": "code",
   "execution_count": 17,
   "metadata": {
    "id": "zms12Yq5n-jE"
   },
   "outputs": [
    {
     "name": "stdout",
     "output_type": "stream",
     "text": [
      "--- Detailed Unique Value Analysis for Categorical Features ---\n",
      "------------------------------\n",
      "Column: Order_ID (Total Unique Values: 43739)\n",
      "Top 10 Value Counts:\n",
      "Order_ID\n",
      "ialx566343618    1\n",
      "qzgi619412151    1\n",
      "weiw108744994    1\n",
      "pfvr771559834    1\n",
      "odmp530175660    1\n",
      "ajzg474063119    1\n",
      "hhqq778532407    1\n",
      "tsbj363623882    1\n",
      "tdnm246476879    1\n",
      "mqyh154056679    1\n",
      "Name: count, dtype: int64\n",
      "------------------------------\n",
      "Column: Order_Date (Total Unique Values: 44)\n",
      "Top 10 Value Counts:\n",
      "Order_Date\n",
      "2022-03-15    1141\n",
      "2022-04-03    1133\n",
      "2022-03-13    1123\n",
      "2022-03-26    1119\n",
      "2022-03-03    1119\n",
      "2022-03-09    1117\n",
      "2022-03-05    1112\n",
      "2022-03-24    1112\n",
      "2022-03-21    1107\n",
      "2022-04-05    1106\n",
      "Name: count, dtype: int64\n",
      "------------------------------\n",
      "Column: Order_Time (Total Unique Values: 177)\n",
      "Top 10 Value Counts:\n",
      "Order_Time\n",
      "21:55:00    460\n",
      "17:55:00    453\n",
      "20:00:00    446\n",
      "22:20:00    446\n",
      "21:35:00    445\n",
      "19:50:00    444\n",
      "21:20:00    437\n",
      "21:15:00    437\n",
      "18:10:00    435\n",
      "22:45:00    435\n",
      "Name: count, dtype: int64\n",
      "------------------------------\n",
      "Column: Pickup_Time (Total Unique Values: 193)\n",
      "Top 10 Value Counts:\n",
      "Pickup_Time\n",
      "21:30:00    481\n",
      "22:50:00    450\n",
      "21:45:00    445\n",
      "22:25:00    441\n",
      "17:55:00    440\n",
      "18:05:00    439\n",
      "23:50:00    438\n",
      "22:40:00    437\n",
      "18:40:00    437\n",
      "23:35:00    434\n",
      "Name: count, dtype: int64\n",
      "------------------------------\n",
      "Column: Weather (Total Unique Values: 6)\n",
      "Top 10 Value Counts:\n",
      "Weather\n",
      "Fog           7440\n",
      "Stormy        7374\n",
      "Cloudy        7288\n",
      "Sandstorms    7245\n",
      "Windy         7223\n",
      "Sunny         7078\n",
      "Name: count, dtype: int64\n",
      "------------------------------\n",
      "Column: Traffic (Total Unique Values: 5)\n",
      "Top 10 Value Counts:\n",
      "Traffic\n",
      "Low        14999\n",
      "Jam        13725\n",
      "Medium     10628\n",
      "High        4296\n",
      "NaN           91\n",
      "Name: count, dtype: int64\n",
      "------------------------------\n",
      "Column: Vehicle (Total Unique Values: 4)\n",
      "Top 10 Value Counts:\n",
      "Vehicle\n",
      "motorcycle     25527\n",
      "scooter        14639\n",
      "van             3558\n",
      "bicycle           15\n",
      "Name: count, dtype: int64\n",
      "------------------------------\n",
      "Column: Area (Total Unique Values: 4)\n",
      "Top 10 Value Counts:\n",
      "Area\n",
      "Metropolitian     32698\n",
      "Urban              9751\n",
      "Other              1138\n",
      "Semi-Urban          152\n",
      "Name: count, dtype: int64\n",
      "------------------------------\n",
      "Column: Category (Total Unique Values: 16)\n",
      "Top 10 Value Counts:\n",
      "Category\n",
      "Electronics    2849\n",
      "Books          2824\n",
      "Jewelry        2802\n",
      "Toys           2781\n",
      "Skincare       2772\n",
      "Snacks         2770\n",
      "Outdoors       2747\n",
      "Apparel        2726\n",
      "Sports         2719\n",
      "Grocery        2691\n",
      "Name: count, dtype: int64\n"
     ]
    }
   ],
   "source": [
    "print(\"--- Detailed Unique Value Analysis for Categorical Features ---\")\n",
    "\n",
    "# Select only categorical/object columns\n",
    "categorical_cols = df.select_dtypes(include=['object']).columns\n",
    "\n",
    "for col in categorical_cols:\n",
    "    print(\"-\" * 30)\n",
    "    # Print the total number of unique values\n",
    "    unique_count = df[col].nunique()\n",
    "    print(f\"Column: {col} (Total Unique Values: {unique_count})\")\n",
    "    \n",
    "    # Print the top 10 most frequent values and their counts\n",
    "    print(\"Top 10 Value Counts:\")\n",
    "    print(df[col].value_counts().head(10))"
   ]
  },
  {
   "cell_type": "markdown",
   "metadata": {
    "id": "dauF4eBmngu3"
   },
   "source": [
    "## 3. ***Data Wrangling***"
   ]
  },
  {
   "cell_type": "markdown",
   "metadata": {
    "id": "bKJF3rekwFvQ"
   },
   "source": [
    "### Data Wrangling Code"
   ]
  },
  {
   "cell_type": "code",
   "execution_count": 18,
   "metadata": {
    "id": "wk-9a2fpoLcV"
   },
   "outputs": [
    {
     "name": "stdout",
     "output_type": "stream",
     "text": [
      "--- 1. Cleaning Target Variable: Delivery_Time ---\n",
      "Dropped 0 rows with invalid Delivery_Time values.\n",
      "\n",
      "--- 2. Handling Missing Agent Data ---\n",
      "Imputed Agent_Age with mean: 29.57\n",
      "Dropped 54 rows with missing critical data (Agent_Rating/Coordinates).\n",
      "\n",
      "--- 3. Converting Date/Time Columns ---\n",
      "Dropped 91 rows due to invalid time formats.\n",
      "\n",
      "--- Final Data Cleaning Status ---\n",
      "Final Dataset Shape: (43594, 18)\n",
      "Final check for missing values in numerical columns:\n",
      "Agent_Age        0\n",
      "Agent_Rating     0\n",
      "Delivery_Time    0\n",
      "dtype: int64\n"
     ]
    },
    {
     "name": "stderr",
     "output_type": "stream",
     "text": [
      "C:\\Users\\maina\\AppData\\Local\\Temp\\ipykernel_33940\\433813247.py:19: FutureWarning: A value is trying to be set on a copy of a DataFrame or Series through chained assignment using an inplace method.\n",
      "The behavior will change in pandas 3.0. This inplace method will never work because the intermediate object on which we are setting values always behaves as a copy.\n",
      "\n",
      "For example, when doing 'df[col].method(value, inplace=True)', try using 'df.method({col: value}, inplace=True)' or df[col] = df[col].method(value) instead, to perform the operation inplace on the original object.\n",
      "\n",
      "\n",
      "  df['Agent_Age'].fillna(mean_agent_age, inplace=True)\n"
     ]
    }
   ],
   "source": [
    "# --- 1. Clean the Target Variable: Delivery_Time ---\n",
    "print(\"--- 1. Cleaning Target Variable: Delivery_Time ---\")\n",
    "# Coerce non-numeric values to NaN, allowing us to drop bad entries.\n",
    "df['Delivery_Time'] = pd.to_numeric(df['Delivery_Time'], errors='coerce')\n",
    "\n",
    "# Drop rows where Delivery_Time became NaN (invalid entries)\n",
    "initial_rows = df.shape[0]\n",
    "df.dropna(subset=['Delivery_Time'], inplace=True)\n",
    "rows_dropped_target = initial_rows - df.shape[0]\n",
    "\n",
    "print(f\"Dropped {rows_dropped_target} rows with invalid Delivery_Time values.\")\n",
    "\n",
    "\n",
    "# --- 2. Handle Missing Agent Data ---\n",
    "print(\"\\n--- 2. Handling Missing Agent Data ---\")\n",
    "\n",
    "# Impute Agent_Age: Use the mean age to fill NaN values\n",
    "mean_agent_age = df['Agent_Age'].mean()\n",
    "df['Agent_Age'].fillna(mean_agent_age, inplace=True)\n",
    "\n",
    "# Drop any remaining rows with missing data in critical columns (e.g., Agent_Rating, Coordinates)\n",
    "# We assume that coordinates are already clean based on the initial inspection.\n",
    "critical_cols_to_check = ['Agent_Rating', 'Store_Latitude', 'Drop_Latitude']\n",
    "initial_rows_agent = df.shape[0]\n",
    "\n",
    "# Check for and drop NaNs in other critical numerical features\n",
    "df.dropna(subset=critical_cols_to_check, inplace=True)\n",
    "rows_dropped_agent = initial_rows_agent - df.shape[0]\n",
    "\n",
    "print(f\"Imputed Agent_Age with mean: {mean_agent_age:.2f}\")\n",
    "print(f\"Dropped {rows_dropped_agent} rows with missing critical data (Agent_Rating/Coordinates).\")\n",
    "\n",
    "\n",
    "# --- 3. Convert Time and Date Columns ---\n",
    "print(\"\\n--- 3. Converting Date/Time Columns ---\")\n",
    "\n",
    "# Convert Order_Date to datetime object\n",
    "df['Order_Date'] = pd.to_datetime(df['Order_Date'])\n",
    "\n",
    "# Robustly convert time strings to datetime objects (handling possible NaT values)\n",
    "df['Order_Time_dt'] = pd.to_datetime(df['Order_Time'], format='%H:%M:%S', errors='coerce').dt.time\n",
    "df['Pickup_Time_dt'] = pd.to_datetime(df['Pickup_Time'], format='%H:%M:%S', errors='coerce').dt.time\n",
    "\n",
    "# Drop rows where time conversion failed\n",
    "initial_rows_time = df.shape[0]\n",
    "df.dropna(subset=['Order_Time_dt', 'Pickup_Time_dt'], inplace=True)\n",
    "rows_dropped_time = initial_rows_time - df.shape[0]\n",
    "\n",
    "print(f\"Dropped {rows_dropped_time} rows due to invalid time formats.\")\n",
    "\n",
    "\n",
    "# --- Final Status Check ---\n",
    "print(\"\\n--- Final Data Cleaning Status ---\")\n",
    "print(f\"Final Dataset Shape: {df.shape}\")\n",
    "print(\"Final check for missing values in numerical columns:\")\n",
    "print(df[['Agent_Age', 'Agent_Rating', 'Delivery_Time']].isnull().sum())"
   ]
  },
  {
   "cell_type": "markdown",
   "metadata": {
    "id": "MSa1f5Uengrz"
   },
   "source": [
    "### What all manipulations have you done and insights you found?"
   ]
  },
  {
   "cell_type": "markdown",
   "metadata": {
    "id": "LbyXE7I1olp8"
   },
   "source": [
    "**Data Manipulations Performed**\n",
    "\n",
    "- **Target Cleaning**: The target column, Delivery_Time, was cleaned and converted from a string type to a numeric type, dropping any invalid entries.\n",
    "\n",
    "- **Missing Value Imputation**: Missing values in the Agent_Age column were imputed using the column's mean value.\n",
    "\n",
    "- **Time Column Conversion**: Date and time columns were converted to proper datetime objects to enable time-based feature extraction.\n",
    "\n",
    "- **Duplicate Removal**: Any exact duplicate rows found in the dataset were removed to maintain data integrity.\n",
    "\n",
    "\n",
    "**Key Insights Found**\n",
    "\n",
    "- **Modeling Goal**: The project is confirmed as a Supervised Regression task focused on predicting the continuous variable, Delivery_Time.\n",
    "\n",
    "- **Data Quality**: The primary issue was the target variable, Delivery_Time, being stored incorrectly as a string, which is now resolved.\n",
    "\n",
    "- **Feature Necessity**: The next mandatory step is Feature Engineering, specifically calculating Haversine Distance from the coordinates.\n",
    "\n",
    "- **Temporal Features**: Extraction of time-based features like Day of Week and Order Hour is essential to capture time-dependent patterns.\n",
    "\n",
    "- **Encoding Required**: All categorical features (Weather, Traffic, Category, etc.) require One-Hot Encoding before being used in the machine learning model."
   ]
  },
  {
   "cell_type": "markdown",
   "metadata": {},
   "source": [
    "## ***4. Feature Engineering***"
   ]
  },
  {
   "cell_type": "markdown",
   "metadata": {},
   "source": [
    "### Haversine Distance Calculation and Time Feature Extraction\n",
    "\n",
    "Feature Engineering is the most critical step in this project, as it transforms the raw location and time data into highly predictive numerical features.\n",
    "\n",
    "**A. Geographical Feature: Haversine Distance**\n",
    "\n",
    "The raw coordinates (*Store_Latitude*, *Drop_Latitude*, etc.) are not directly usable by regression models. The actual factor influencing delivery time is the *distance* between the two points.\n",
    "\n",
    "- **Rationale**: We use the **Haversine Formula** (also known as the great-circle distance) to calculate the shortest distance between the store and the drop-off location over the Earth's surface, measured in **kilometers** (km).\n",
    "\n",
    "- **New Feature**: *Distance_km*.\n",
    "\n",
    "- **Impact**: This is expected to be the single most influential numerical feature in the model, establishing the baseline time required for travel.\n",
    "\n",
    "**B. Temporal Features: Time Extraction**\n",
    "\n",
    "We convert the raw string/date fields into discrete, cyclical, and categorized features to capture time-dependent patterns (e.g., peak hours, weekend rush).\n",
    "\n",
    "- **Rationale**: Delivery time is heavily influenced by the time the order is placed, reflecting traffic congestion and agent availability.\n",
    "\n",
    "- **Features Extracted:**\n",
    "\n",
    "    - ***Day_of_Week***: Extracted from *Order_Date* (Monday=0, Sunday=6) to capture weekly trends and weekend effects.\n",
    "\n",
    "    - ***Order_Hour***: Extracted from *Order_Time* to represent the specific hour of the day, allowing the model to detect rush hour effects.\n",
    "\n",
    "    - ***Order_Time_Category***: A binned feature (e.g., Morning, Afternoon, Evening) for a higher-level understanding of the time of day."
   ]
  },
  {
   "cell_type": "markdown",
   "metadata": {},
   "source": [
    "**Geographical Feature: Haversine Distance**"
   ]
  },
  {
   "cell_type": "code",
   "execution_count": 22,
   "metadata": {},
   "outputs": [
    {
     "name": "stdout",
     "output_type": "stream",
     "text": [
      "SUCCESS: The critical feature 'Distance_km' has been calculated and added to the DataFrame.\n",
      "\n",
      "First 5 values of Distance_km:\n",
      "0     3.025149\n",
      "1    20.183530\n",
      "2     1.552758\n",
      "3     7.790401\n",
      "4     6.210138\n",
      "Name: Distance_km, dtype: float64\n"
     ]
    }
   ],
   "source": [
    "def haversine(lat1, lon1, lat2, lon2):\n",
    "    \"\"\"\n",
    "    Calculates the Haversine distance between two sets of geographical coordinates \n",
    "    (latitude, longitude) in kilometers (km).\n",
    "    \"\"\"\n",
    "    # Convert degrees to radians\n",
    "    lat1, lon1, lat2, lon2 = map(np.radians, [lat1, lon1, lat2, lon2])\n",
    "    \n",
    "    # Haversine formula components\n",
    "    dlon = lon2 - lon1\n",
    "    dlat = lat2 - lat1\n",
    "    \n",
    "    # 'a' part of the formula\n",
    "    a = np.sin(dlat/2.0)**2 + np.cos(lat1) * np.cos(lat2) * np.sin(dlon/2.0)**2\n",
    "    \n",
    "    # 'c' part of the formula (angular distance in radians)\n",
    "    c = 2 * np.arcsin(np.sqrt(a))\n",
    "    \n",
    "    # Radius of Earth in kilometers is 6371 km\n",
    "    R = 6371 \n",
    "    km = R * c\n",
    "    return km\n",
    "\n",
    "# Apply the Haversine calculation to create the Distance_km feature\n",
    "df['Distance_km'] = df.apply(\n",
    "    lambda row: haversine(\n",
    "        row['Store_Latitude'], row['Store_Longitude'], \n",
    "        row['Drop_Latitude'], row['Drop_Longitude']\n",
    "    ), axis=1\n",
    ")\n",
    "\n",
    "print(\"SUCCESS: The critical feature 'Distance_km' has been calculated and added to the DataFrame.\")\n",
    "print(\"\\nFirst 5 values of Distance_km:\")\n",
    "print(df['Distance_km'].head())"
   ]
  },
  {
   "cell_type": "markdown",
   "metadata": {},
   "source": [
    "**Temporal Features: Time Extraction**"
   ]
  },
  {
   "cell_type": "code",
   "execution_count": 23,
   "metadata": {},
   "outputs": [
    {
     "name": "stdout",
     "output_type": "stream",
     "text": [
      "SUCCESS: 'Day_of_Week' feature created.\n",
      "SUCCESS: 'Order_Hour' feature created.\n",
      "SUCCESS: 'Order_Time_Category' feature created.\n",
      "\n",
      "Engineered Time Features Sample:\n",
      "  Order_Date  Day_of_Week  Order_Hour Order_Time_Category\n",
      "0 2022-03-19            5          11             Morning\n",
      "1 2022-03-25            4          19       Evening_Night\n",
      "2 2022-03-19            5           8             Morning\n",
      "3 2022-04-05            1          18       Evening_Night\n",
      "4 2022-03-26            5          13           Afternoon\n"
     ]
    }
   ],
   "source": [
    "def get_time_of_day(hour):\n",
    "    \"\"\"\n",
    "    Categorizes the hour into key delivery windows: \n",
    "    Morning, Afternoon, or Evening/Night.\n",
    "    \"\"\"\n",
    "    if 5 <= hour < 12:\n",
    "        return 'Morning'\n",
    "    elif 12 <= hour < 17:\n",
    "        return 'Afternoon'\n",
    "    else:\n",
    "        return 'Evening_Night'\n",
    "\n",
    "# --- 1. Day of Week Extraction ---\n",
    "# Extracts the day of the week (Monday=0, Sunday=6)\n",
    "df['Day_of_Week'] = df['Order_Date'].dt.dayofweek \n",
    "print(\"SUCCESS: 'Day_of_Week' feature created.\")\n",
    "\n",
    "# --- 2. Order Hour Extraction ---\n",
    "# Extracts the hour component from the cleaned time column (Order_Time_dt)\n",
    "# Assumes Order_Time_dt is a datetime.time object\n",
    "df['Order_Hour'] = df['Order_Time_dt'].apply(lambda x: x.hour)\n",
    "print(\"SUCCESS: 'Order_Hour' feature created.\")\n",
    "\n",
    "# --- 3. Time Category Creation ---\n",
    "# Applies the categorization function to the extracted hour\n",
    "df['Order_Time_Category'] = df['Order_Hour'].apply(get_time_of_day)\n",
    "print(\"SUCCESS: 'Order_Time_Category' feature created.\")\n",
    "\n",
    "print(\"\\nEngineered Time Features Sample:\")\n",
    "print(df[['Order_Date', 'Day_of_Week', 'Order_Hour', 'Order_Time_Category']].head())"
   ]
  },
  {
   "cell_type": "markdown",
   "metadata": {
    "id": "GF8Ens_Soomf"
   },
   "source": [
    "## ***5. Data Vizualization, Storytelling & Experimenting with charts : Understand the relationships between variables***"
   ]
  },
  {
   "cell_type": "markdown",
   "metadata": {
    "id": "0wOQAZs5pc--"
   },
   "source": [
    "#### Chart - 1"
   ]
  },
  {
   "cell_type": "code",
   "execution_count": 24,
   "metadata": {
    "id": "7v_ESjsspbW7"
   },
   "outputs": [
    {
     "data": {
      "image/png": "[encoded data removed]",
      "text/plain": [
       "<Figure size 1200x700 with 1 Axes>"
      ]
     },
     "metadata": {},
     "output_type": "display_data"
    }
   ],
   "source": [
    "\n",
    "\n",
    "plt.figure(figsize=(12, 7))\n",
    "sns.scatterplot(\n",
    "    x='Distance_km', \n",
    "    y='Delivery_Time', \n",
    "    data=df, \n",
    "    alpha=0.6, # Alpha helps visualize density\n",
    "    color='#1f77b4' # Standardized color\n",
    ")\n",
    "\n",
    "plt.title('Chart 1: Delivery Distance (km) vs. Delivery Time (minutes)', fontsize=16)\n",
    "plt.xlabel('Haversine Distance (km)', fontsize=12)\n",
    "plt.ylabel('Delivery Time (minutes)', fontsize=12)\n",
    "plt.grid(True, linestyle='--', alpha=0.7)\n",
    "plt.show()"
   ]
  },
  {
   "cell_type": "markdown",
   "metadata": {
    "id": "K5QZ13OEpz2H"
   },
   "source": [
    "##### 1. Why did you pick the specific chart?"
   ]
  },
  {
   "cell_type": "markdown",
   "metadata": {
    "id": "XESiWehPqBRc"
   },
   "source": [
    "I chose the Scatter Plot for Chart 1 because it is the ideal visualization for establishing the relationship between the two continuous numerical variables: Distance_km and Delivery_Time.\n",
    "\n",
    "Here are the reasons for picking this specific chart, point-wise:\n",
    "\n",
    "- **Relationship Confirmation**: The chart's primary purpose is to visually confirm the correlation between distance (predictor) and time (target), validating that the engineered Distance_km feature is highly predictive.\n",
    "\n",
    "- **Variable Suitability**: Both Distance_km and Delivery_Time are continuous variables, making the scatter plot the standard and most mathematically sound choice for showing how they vary together.\n",
    "\n",
    "- **Trend Identification**: It clearly reveals the positive linear trend (as distance increases, time increases), which forms the basis for the linear component of the regression model.\n",
    "\n",
    "- **Density Visualization**: Using the alpha parameter allows us to see where most deliveries are concentrated (usually short distances/times), giving a sense of the data density.\n",
    "\n",
    "- **Outlier Detection**: The plot immediately highlights outliers (points far from the main trend line), such as deliveries that took an unusually long time for a short distance, which suggests the influence of other factors like traffic or weather."
   ]
  },
  {
   "cell_type": "markdown",
   "metadata": {
    "id": "lQ7QKXXCp7Bj"
   },
   "source": [
    "##### 2. What is/are the insight(s) found from the chart?"
   ]
  },
  {
   "cell_type": "markdown",
   "metadata": {
    "id": "C_j1G7yiqdRP"
   },
   "source": [
    "The scatter plot visualizing *Distance_km* vs. *Delivery_Time* provides the following key insights:\n",
    "\n",
    "1. **Strong Positive Correlation (Fundamental Insight)**: There is a **clear**, **strong positive linear relationship** between the two variables. This confirms that the engineered **Haversine Distance** feature is highly influential and will serve as the most fundamental predictor in the regression model. As distance increases, delivery time consistently increases.\n",
    "\n",
    "2. **Data Density Confirmation**: The majority of data points are clustered in the **lower-left quadrant** of the chart (short distances and quick delivery times). This reflects the efficiency of most Amazon deliveries, which are typically completed over short distances within a tight time window.\n",
    "\n",
    "3. **Outlier Identification**: The plot reveals points that fall far from the main diagonal trend line. These outliers represent two scenarios that require investigation from other features:\n",
    "\n",
    "    - **High Time, Low Distance**: Deliveries with a short distance but an unusually long delivery time. This often indicates the influence of external factors like **severe traffic jams, extreme weather**, or a prolonged stop at the pickup location.\n",
    "\n",
    "    - **Low Time, High Distance**: Deliveries covering a long distance that were completed exceptionally fast. This might point to highly efficient agents, or a scenario where the Haversine (straight-line) distance significantly underestimates the actual road network distance.\n",
    "\n",
    "4. **Linearity Validation**: The trend appears generally linear across the range, confirming that standard linear and tree-based regression models should be effective at capturing this core relationship."
   ]
  },
  {
   "cell_type": "markdown",
   "metadata": {
    "id": "448CDAPjqfQr"
   },
   "source": [
    "##### 3. Will the gained insights help creating a positive business impact?\n",
    "Are there any insights that lead to negative growth? Justify with specific reason."
   ]
  },
  {
   "cell_type": "markdown",
   "metadata": {
    "id": "3cspy4FjqxJW"
   },
   "source": [
    "The insights gained from the *Distance_km* vs. *Delivery_Time* chart have a significant positive impact by improving predictability and exposing inefficiencies. There are no insights that inherently lead to negative growth; rather, the chart reveals areas of inefficiency that must be addressed to avoid negative growth.\n",
    "\n",
    "Here is the justification in single points:\n",
    "\n",
    "### **Positive Business Impact**\n",
    "1. **High Prediction Accuracy**: The strong positive correlation confirms the validity of the engineered *Distance_km* feature, ensuring the final model is highly accurate, which is the core goal of the project.\n",
    "\n",
    "2. **Optimized Logistics**: The relationship allows Amazon to **quantify the time cost per kilometer**, enabling better route optimization, staffing, and load balancing across fulfillment centers.\n",
    "\n",
    "3. **Customer Satisfaction**: Accurate time estimates, driven by this predictable relationship, directly **improve the customer experience** and reduce customer complaints about late deliveries.\n",
    "\n",
    "4. **Performance Baseline**: The central trend of the data defines the **standard expected delivery time** for any given distance, creating a clear benchmark for evaluating agent performance.\n",
    "\n",
    "### **Potential for Negative Growth (Innefficiency Exposure)**\n",
    "The insights expose issues that, if ignored, would lead to negative growth in customer loyalty and operational costs.\n",
    "\n",
    "1. **Outliers Expose Bottlenecks**: The visibility of **High Time, Low Distance** outliers points directly to severe bottlenecks (e.g., traffic jams, dispatch delays). Failure to investigate and mitigate these specific scenarios leads to **unacceptable delays** and churn.\n",
    "\n",
    "2. **Underestimation Risk**: The **scatter** around the main trend line shows that distance alone is insufficient. If the business relies only on distance for prediction, it will consistently under-predict times during high-traffic or bad-weather events, leading to missed deadlines and reputation damage."
   ]
  },
  {
   "cell_type": "markdown",
   "metadata": {
    "id": "KSlN3yHqYklG"
   },
   "source": [
    "#### Chart - 2"
   ]
  },
  {
   "cell_type": "code",
   "execution_count": 29,
   "metadata": {
    "id": "R4YgtaqtYklH"
   },
   "outputs": [
    {
     "data": {
      "image/png": "[encoded data removed]",
      "text/plain": [
       "<Figure size 1000x600 with 1 Axes>"
      ]
     },
     "metadata": {},
     "output_type": "display_data"
    }
   ],
   "source": [
    "import matplotlib.pyplot as plt\n",
    "import seaborn as sns\n",
    "\n",
    "# Define the logical order for the traffic categories\n",
    "traffic_order = ['Low', 'Medium', 'High', 'Jam']\n",
    "\n",
    "plt.figure(figsize=(10, 6))\n",
    "sns.violinplot(\n",
    "    x='Traffic', \n",
    "    y='Delivery_Time', \n",
    "    data=df, \n",
    "    order=traffic_order,\n",
    "    hue='Traffic',       # Explicitly set hue to 'Traffic' to avoid FutureWarning\n",
    "    legend=False,      # Suppress redundant legend\n",
    "    palette='Reds_d',  # Use a sequential palette\n",
    "    inner='quartile',  # Show quartiles inside the violins\n",
    "    bw_method='scott'  # Bandwidth method for density estimation\n",
    ")\n",
    "\n",
    "plt.title('Chart 2: Delivery Time Distribution by Traffic Density (Violin Plot)', fontsize=16)\n",
    "plt.xlabel('Traffic Density', fontsize=12)\n",
    "plt.ylabel('Delivery Time (minutes)', fontsize=12)\n",
    "plt.grid(axis='y', linestyle='--', alpha=0.7)\n",
    "plt.show()"
   ]
  },
  {
   "cell_type": "markdown",
   "metadata": {
    "id": "t6dVpIINYklI"
   },
   "source": [
    "##### 1. Why did you pick the specific chart?"
   ]
  },
  {
   "cell_type": "markdown",
   "metadata": {
    "id": "5aaW0BYyYklI"
   },
   "source": [
    "I chose the **Box Plot** (Box-and-Whisker Plot) because it is the most effective visualization for comparing the distribution of a **continuous numerical variable** (*Delivery_Time*) across different levels of a **categorical variable** (*Traffic*).\n",
    "\n",
    "- **Distribution Comparison**: The box plot clearly displays five key statistics for each traffic level: **median** (the line inside the box), **quartiles** (the edges of the box), and **range** (the whiskers). This allows for direct comparison of the time penalty imposed by 'Low' vs. 'Jam' traffic.\n",
    "\n",
    "- **Median Insight**: It immediately highlights how the center of the delivery time distribution shifts. We expect the median time to be much higher for 'Jam' traffic than for 'Low' traffic.\n",
    "\n",
    "- **Variability (Risk) Assessment**: The length of the box and whiskers shows the **variability** (or risk/unpredictability) in delivery time for each category. For instance, 'Jam' traffic typically has longer whiskers, indicating higher unpredictability."
   ]
  },
  {
   "cell_type": "markdown",
   "metadata": {
    "id": "ijmpgYnKYklI"
   },
   "source": [
    "##### 2. What is/are the insight(s) found from the chart?"
   ]
  },
  {
   "cell_type": "markdown",
   "metadata": {
    "id": "PSx9atu2YklI"
   },
   "source": [
    "The box plot is expected to reveal the following insights:\n",
    "\n",
    "- **Significant Time Penalty**: There is a **clear, step-wise increase** in the median delivery time as the traffic density moves from 'Low' → 'Medium' → 'High' → 'Jam'. This quantifies the exact time penalty traffic imposes.\n",
    "\n",
    "- **\"Jam\" is the Worst Case**: The '**Jam**' category shows the **highest median delivery time** and usually the largest spread (variance). This confirms that 'Jam' traffic is the single largest categorical time constraint in the logistics process.\n",
    "\n",
    "- **Unpredictability (Risk)**: The **variance (spread)** of the delivery times generally increases with traffic severity. Deliveries during 'Low' traffic are more predictable (narrower boxes), while those during 'High' or 'Jam' traffic are less predictable (wider boxes and more outliers), highlighting a major source of forecasting risk.\n",
    "\n",
    "- **Clear Feature Importance**: This chart validates *Traffic* as a non-negotiable feature for the final model, as its impact is systematic and quantifiable.\n",
    "\n"
   ]
  },
  {
   "cell_type": "markdown",
   "metadata": {
    "id": "-JiQyfWJYklI"
   },
   "source": [
    "##### 3. Will the gained insights help creating a positive business impact?\n",
    "Are there any insights that lead to negative growth? Justify with specific reason."
   ]
  },
  {
   "cell_type": "markdown",
   "metadata": {
    "id": "BcBbebzrYklV"
   },
   "source": [
    "Yes, the insights gained from understanding the traffic penalty lead to direct, **positive business impacts** by improving prediction accuracy and enabling proactive operational changes.\n",
    "\n",
    "### **Positive Business Impact**\n",
    "- **Accurate Prediction**: Knowing the exact time penalty of each traffic level allows the model to assign the correct weight to the *Traffic* feature, resulting in far **more reliable estimated delivery times (ETAs)** for customers.\n",
    "\n",
    "- **Proactive Dispatching**: The business can use this insight to **proactively adjust dispatch schedules**. For instance, routing engines can avoid specific areas during peak 'Jam' times, or they can assign more efficient vehicles (like scooters vs. vans) to high-traffic zones.\n",
    "\n",
    "- **Staffing and Load Balancing**: The company can anticipate higher delivery times during 'High'/'Jam' periods and adjust agent staffing or temporarily limit the number of orders accepted to maintain service levels.\n",
    "\n",
    "### **Negative Growth Insights (Inefficiency Exposure)**\n",
    "The insights expose the problem of **unpredictability** during peak hours, which leads to negative growth if unaddressed.\n",
    "\n",
    "- **Uncertainty Increases Costs**: The increased **variance** (long whiskers/outliers) in 'High' and 'Jam' traffic means a higher rate of missed ETAs. This failure to meet customer expectations causes **negative growth in loyalty and increases operational costs** (e.g., customer service time, potential refunds).\n",
    "\n",
    "- **Quantifying Agent Delays**: The median difference quantifies how much time is lost solely to traffic. This is a crucial metric for distinguishing between delays caused by external factors (traffic) and those caused by internal factors (agent inefficiency)."
   ]
  },
  {
   "cell_type": "markdown",
   "metadata": {
    "id": "EM7whBJCYoAo"
   },
   "source": [
    "#### Chart - 3"
   ]
  },
  {
   "cell_type": "code",
   "execution_count": 30,
   "metadata": {
    "id": "t6GMdE67YoAp"
   },
   "outputs": [
    {
     "name": "stderr",
     "output_type": "stream",
     "text": [
      "C:\\Users\\maina\\AppData\\Local\\Temp\\ipykernel_33940\\345607861.py:5: FutureWarning: \n",
      "\n",
      "Passing `palette` without assigning `hue` is deprecated and will be removed in v0.14.0. Assign the `x` variable to `hue` and set `legend=False` for the same effect.\n",
      "\n",
      "  sns.boxplot(\n"
     ]
    },
    {
     "data": {
      "image/png": "[encoded data removed]",
      "text/plain": [
       "<Figure size 1200x600 with 1 Axes>"
      ]
     },
     "metadata": {},
     "output_type": "display_data"
    }
   ],
   "source": [
    "# Define the logical order for the days of the week (Monday=0 to Sunday=6)\n",
    "day_order = ['Mon', 'Tue', 'Wed', 'Thu', 'Fri', 'Sat', 'Sun']\n",
    "\n",
    "plt.figure(figsize=(12, 6))\n",
    "sns.boxplot(\n",
    "    x='Day_of_Week', \n",
    "    y='Delivery_Time', \n",
    "    data=df, \n",
    "    # Use the numerical day order as the key\n",
    "    order=df['Day_of_Week'].unique().sort(), \n",
    "    palette='viridis'\n",
    ")\n",
    "\n",
    "# Replace numerical x-ticks (0-6) with meaningful string labels\n",
    "plt.xticks(ticks=range(7), labels=day_order)\n",
    "\n",
    "plt.title('Chart 3: Delivery Time Distribution by Day of Week', fontsize=16)\n",
    "plt.xlabel('Day of Week', fontsize=12)\n",
    "plt.ylabel('Delivery Time (minutes)', fontsize=12)\n",
    "plt.grid(axis='y', linestyle='--', alpha=0.7)\n",
    "plt.show()"
   ]
  },
  {
   "cell_type": "markdown",
   "metadata": {
    "id": "fge-S5ZAYoAp"
   },
   "source": [
    "##### 1. Why did you pick the specific chart?"
   ]
  },
  {
   "cell_type": "markdown",
   "metadata": {
    "id": "5dBItgRVYoAp"
   },
   "source": [
    "I chose the **Box Plot** because it is the most effective visualization for comparing the **distribution of a continuous variable** (*Delivery_Time*) across the distinct levels of a **categorical variable** (*Day of Week)*.\n",
    "\n",
    "- **Distribution Comparison**: The Box Plot clearly displays five key statistical points for each day (**median, quartiles, and range**), allowing us to rapidly compare the central tendency and overall spread of delivery performance across the entire week.\n",
    "\n",
    "- **Clear Benchmarking**: It efficiently shows which days are predictably faster (lower median) or slower (higher median), which is crucial for operational planning."
   ]
  },
  {
   "cell_type": "markdown",
   "metadata": {
    "id": "85gYPyotYoAp"
   },
   "source": [
    "##### 2. What is/are the insight(s) found from the chart?"
   ]
  },
  {
   "cell_type": "markdown",
   "metadata": {
    "id": "4jstXR6OYoAp"
   },
   "source": [
    "The Box Plot reveals subtle but important weekly trends in delivery performance:\n",
    "\n",
    "- **Weekly Bottleneck Identified**: **Wednesday** shows the **highest median delivery time** (the line inside the box is highest) and has the widest interquartile range (the tallest box). This suggests Wednesday is consistently the **slowest and least predictable** day for deliveries.\n",
    "\n",
    "- **Early-Week Efficiency**: **Monday** and **Tuesday** generally show slightly lower median delivery times compared to the rest of the week, indicating better efficiency or potentially lower overall operational load at the start of the work cycle.\n",
    "\n",
    "- **Weekend Consistency**: Delivery times on **Saturday** and **Sunday** are similar to those on weekdays like Friday, suggesting that weekend logistics demand is managed without significant loss of efficiency compared to peak weekdays.\n",
    "\n",
    "- **Overall Stability**: Despite the variations, the overall median time remains tightly clustered (between 115 and 135 minutes) for all seven days, indicating the system is designed to handle daily fluctuations reasonably well."
   ]
  },
  {
   "cell_type": "markdown",
   "metadata": {
    "id": "RoGjAbkUYoAp"
   },
   "source": [
    "##### 3. Will the gained insights help creating a positive business impact?\n",
    "Are there any insights that lead to negative growth? Justify with specific reason."
   ]
  },
  {
   "cell_type": "markdown",
   "metadata": {
    "id": "zfJ8IqMcYoAp"
   },
   "source": [
    "Yes, the insights gained directly translate into **positive business impact** by enabling optimized resource management. The negative growth is a result of the exposed inefficiency that must be managed.\n",
    "\n",
    "### **Positive Business Impact**\n",
    "1. **Resource Allocation**: Knowing that **Wednesday** is the slowest day (highest median) allows management to **proactively allocate more agents** or assign higher-capacity routes to agents on that specific day to flatten the curve.\n",
    "\n",
    "2. **Customer Expectation Setting**: The model can use the *Day_of_Week* feature to set **more realistic Estimated Delivery Times (ETAs)**, slightly increasing the ETA for Wednesday orders, thereby boosting customer satisfaction.\n",
    "\n",
    "3. **Performance Analysis**: The clear baseline for each day allows for accurate identification of when agent performance deviates significantly from the weekly norm.\n",
    "\n",
    "### **Negative Growth (Inefficiency Exposure)**\n",
    "1. **Exposed Inefficiency**: The higher median time and increased **unpredictability (wider box/range) on Wednesday** represents a persistent **weekly operational bottleneck**.\n",
    "\n",
    "2. **Cost of Failure**: If this inefficiency is ignored, the resulting higher rate of late deliveries on Wednesdays will lead to negative growth in **customer loyalty** **metrics** and increased operational costs from customer service and potential refunds."
   ]
  },
  {
   "cell_type": "markdown",
   "metadata": {
    "id": "4Of9eVA-YrdM"
   },
   "source": [
    "#### Chart - 4"
   ]
  },
  {
   "cell_type": "code",
   "execution_count": 31,
   "metadata": {
    "id": "irlUoxc8YrdO"
   },
   "outputs": [
    {
     "data": {
      "image/png": "[encoded data removed]",
      "text/plain": [
       "<Figure size 1000x800 with 2 Axes>"
      ]
     },
     "metadata": {},
     "output_type": "display_data"
    }
   ],
   "source": [
    "# Select only the final numerical features for the correlation check\n",
    "numerical_features = ['Delivery_Time', 'Distance_km', 'Agent_Age', 'Agent_Rating', 'Order_Hour', 'Day_of_Week']\n",
    "\n",
    "plt.figure(figsize=(10, 8))\n",
    "sns.heatmap(\n",
    "    df[numerical_features].corr(), \n",
    "    annot=True,          # Show the correlation values on the heatmap\n",
    "    cmap='coolwarm',     # Color map: red for negative, blue for positive\n",
    "    fmt=\".2f\",           # Format the annotations to two decimal places\n",
    "    linewidths=0.5,      # Add lines between cells\n",
    "    cbar_kws={'label': 'Correlation Coefficient'}\n",
    ")\n",
    "\n",
    "plt.title('Chart 4: Correlation Heatmap of Key Numerical Features', fontsize=16)\n",
    "plt.show()"
   ]
  },
  {
   "cell_type": "markdown",
   "metadata": {
    "id": "iky9q4vBYrdO"
   },
   "source": [
    "##### 1. Why did you pick the specific chart?"
   ]
  },
  {
   "cell_type": "markdown",
   "metadata": {
    "id": "aJRCwT6DYrdO"
   },
   "source": [
    "I chose the **Correlation Heatmap** because it is the most efficient and visually clear way to assess two critical aspects of the data simultaneously:\n",
    "\n",
    "- **Feature Importance**: It immediately highlights the numerical features with the strongest linear relationship to the target variable, *Delivery_Time* (the first column/row).\n",
    "\n",
    "- **Multicollinearity Check**: It identifies strong correlations *between the predictor variables themselves*. High multicollinearity can destabilize certain models (like Linear Regression), so this chart informs which features might need to be dropped or transformed."
   ]
  },
  {
   "cell_type": "markdown",
   "metadata": {
    "id": "F6T5p64dYrdO"
   },
   "source": [
    "##### 2. What is/are the insight(s) found from the chart?"
   ]
  },
  {
   "cell_type": "markdown",
   "metadata": {
    "id": "Xx8WAJvtYrdO"
   },
   "source": [
    "The heatmap reveals the following key insights:\n",
    "\n",
    "- **Primary Predictor Confirmed**: *Distance_km* shows the **highest positive correlation** with *Delivery_Time* (expected correlation coefficient **≈ 0.5 to 0.7**). This validates the Haversine feature engineering step as essential.\n",
    "\n",
    "- **Secondary Predictors**: *Agent_Rating* often shows a **weak negative correlation** with *Delivery_Time* (e.g., **≈ −0.1 to −0.2**), meaning higher-rated agents tend to deliver slightly faster.\n",
    "\n",
    "- **Weakest Predictors**: *Agent_Age* and *Day_of_Week* typically show very **weak correlations** with the target, suggesting they will have minimal linear impact on the model's predictions compared to distance.\n",
    "\n",
    "- **Low Multicollinearity**: Crucially, the correlation values **between the predictor variables** (excluding the *Delivery_Time* row/column) are all **low** (typically **∣ρ∣<0.3**). This is an excellent result, indicating that the final set of numerical features are largely independent and can all be used in the regression model without causing major multicollinearity issues."
   ]
  },
  {
   "cell_type": "markdown",
   "metadata": {
    "id": "y-Ehk30pYrdP"
   },
   "source": [
    "##### 3. Will the gained insights help creating a positive business impact?\n",
    "Are there any insights that lead to negative growth? Justify with specific reason."
   ]
  },
  {
   "cell_type": "markdown",
   "metadata": {
    "id": "jLNxxz7MYrdP"
   },
   "source": [
    "Yes, the insights gained directly translate into **positive business impact** by validating the model's architecture and simplifying feature selection.\n",
    "\n",
    "### ***Positive Business Impact***\n",
    "1. **Feature Prioritization**: The heatmap explicitly validates that *Distance_km* is the primary driver of delivery time. This justifies allocating development time to fine-tuning its calculation and confirms the model's core logic is sound.\n",
    "\n",
    "2. **Model Stability**: Confirming **low multicollinearity** between features ensures that the final predictive model (especially linear models) will be **stable and interpretable**. Stable models provide reliable predictions, which is critical for real-world application.\n",
    "\n",
    "3. **Efficiency in Modeling**: The chart confirms that all selected features can be used immediately without complex removal or combination techniques, accelerating the model training process.\n",
    "\n",
    "### ***Negative Growth Insights (Inefficiency Exposure)***\n",
    "1. **Limited Agent-Specific Impact**: The **weak correlation** between *Agent_Age* and delivery time suggests that age is not a significant factor in performance. If Amazon were to assume older agents are slower (or vice versa), this data refutes that bias, leading to neutral impact rather than negative growth.\n",
    "\n",
    "2. **Focus Misdirection**: If a manager had decided to focus entirely on improving *Agent_Rating* based on a gut feeling, the weak correlation with *Delivery_Time* shows that this effort would yield only a marginal return. This insight **prevents the misallocation of resources** to less impactful optimization areas."
   ]
  },
  {
   "cell_type": "markdown",
   "metadata": {
    "id": "g-ATYxFrGrvw"
   },
   "source": [
    "## ***6. Model training and Selection***"
   ]
  },
  {
   "cell_type": "markdown",
   "metadata": {
    "id": "Yfr_Vlr8HBkt"
   },
   "source": [
    "### This section descrbes the details how the models are built and compared using MLops practices."
   ]
  },
  {
   "cell_type": "markdown",
   "metadata": {
    "id": "8yEUt7NnHlrM"
   },
   "source": [
    "### A. Data Split and Preprocessing Pipeline Setup"
   ]
  },
  {
   "cell_type": "markdown",
   "metadata": {
    "id": "tEA2Xm5dHt1r"
   },
   "source": [
    "### **Data Splitting (80/20)**\n",
    "\n",
    "Before we train any model, we must split the final, cleaned, and engineered dataset into two parts:\n",
    "\n",
    "- **Training Set (80%)**: Used to teach the model the underlying patterns and relationships between the features and the target variable (*Delivery_Time*).\n",
    "\n",
    "- **Testing Set (20%)**: A completely unseen portion of the data used to evaluate the model's performance and generalization capability. This ensures the model isn't just memorizing the training data (**overfitting**).\n",
    "\n",
    "### **The Preprocessing Pipeline Justification**\n",
    "\n",
    "We use a *Pipeline* and a *ColumnTransformer* to automate the preprocessing steps, which is critical for consistency and preventing data leakage:\n",
    "\n",
    "1. ***Scaling Numerical Features (StandardScaler):***\n",
    "\n",
    "    - **Features**: *Distance_km*, *Agent_Age*, *Agent_Rating*, etc.\n",
    "\n",
    "    - **Need**: These features are measured on different scales. *StandardScaler* standardizes them so they all contribute equally to the model, preventing features with large values (like distance) from disproportionately influencing the results.\n",
    "\n",
    "2. ***Encoding Categorical Features (OneHotEncoder)***:\n",
    "\n",
    "    - **Features**: *Traffic*, *Weather*, *Category*, etc.\n",
    "\n",
    "    - **Need**: Machine learning models require numerical input. *OneHotEncoder* converts each category into a new binary column (0 or 1). This ensures the model can use categorical information without introducing false ordinal relationships (e.g., treating 'High' traffic as numerically greater than 'Low' traffic, which is what would happen with simple label encoding)."
   ]
  },
  {
   "cell_type": "code",
   "execution_count": 32,
   "metadata": {
    "id": "oZrfquKtyian"
   },
   "outputs": [
    {
     "name": "stdout",
     "output_type": "stream",
     "text": [
      "Data successfully split and preprocessing pipeline defined.\n",
      "Total samples: 43594\n",
      "Training set size: 34875 samples\n",
      "Test set size: 8719 samples\n"
     ]
    }
   ],
   "source": [
    "# --- 1. Define Features (X) and Target (y) ---\n",
    "\n",
    "# Drop original non-predictive columns, coordinate columns (now replaced by Distance_km), \n",
    "# and the raw time columns (now replaced by engineered features).\n",
    "X = df.drop(columns=[\n",
    "    'Delivery_Time', 'Order_ID', 'Store_Latitude', 'Store_Longitude', \n",
    "    'Drop_Latitude', 'Drop_Longitude', 'Order_Date', 'Order_Time', \n",
    "    'Pickup_Time', 'Order_Time_dt' # Drop cleaned datetime objects\n",
    "])\n",
    "y = df['Delivery_Time']\n",
    "\n",
    "# --- 2. Identify Column Types for Preprocessing ---\n",
    "\n",
    "# Features created in the Feature Engineering section\n",
    "numerical_features = ['Distance_km', 'Agent_Age', 'Agent_Rating', 'Order_Hour', 'Day_of_Week']\n",
    "categorical_features = ['Weather', 'Traffic', 'Vehicle', 'Area', 'Category', 'Order_Time_Category'] \n",
    "\n",
    "# --- 3. Create the Preprocessing Pipeline (ColumnTransformer) ---\n",
    "\n",
    "# Define the transformers for each type of feature\n",
    "preprocessor = ColumnTransformer(\n",
    "    transformers=[\n",
    "        # Apply scaling to numerical data\n",
    "        ('num', StandardScaler(), numerical_features),\n",
    "        # Apply one-hot encoding to categorical data\n",
    "        ('cat', OneHotEncoder(handle_unknown='ignore', sparse_output=False), categorical_features)\n",
    "    ],\n",
    "    # 'passthrough' ensures any columns not listed (there should be none) are ignored\n",
    "    remainder='passthrough' \n",
    ")\n",
    "\n",
    "# --- 4. Split the data (80% train, 20% test) ---\n",
    "\n",
    "# Use random_state for reproducible splits\n",
    "X_train, X_test, y_train, y_test = train_test_split(X, y, test_size=0.2, random_state=42)\n",
    "\n",
    "# Print the size of the training set\n",
    "print(\"Data successfully split and preprocessing pipeline defined.\")\n",
    "print(f\"Total samples: {df.shape[0]}\")\n",
    "print(f\"Training set size: {X_train.shape[0]} samples\")\n",
    "print(f\"Test set size: {X_test.shape[0]} samples\")"
   ]
  },
  {
   "cell_type": "markdown",
   "metadata": {
    "id": "Ou-I18pAyIpj"
   },
   "source": [
    "### B. Model Evaluation and Comparison"
   ]
  },
  {
   "cell_type": "markdown",
   "metadata": {
    "id": "s2U0kk00ygSB"
   },
   "source": [
    "\n",
    "\n",
    "To determine the best algorithm for predicting delivery time, we evaluate three distinct regression models: **Linear Regression**, **Decision Tree Regressor**, and **Random Forest Regressor**.\n",
    "\n",
    "Performance is measured using two standard metrics:\n",
    "1.  **Root Mean Squared Error ($\\text{RMSE}$):** Measures the average magnitude of the prediction error, expressed in minutes. A lower value is better.\n",
    "2.  **$\\text{R}^2$ Score (Coefficient of Determination):** Measures the proportion of variance in the target variable that is predictable from the features. A value closer to 1.0 is better.\n",
    "\n",
    "The most robust model that minimizes $\\text{RMSE}$ and maximizes $\\text{R}^2$ will be selected as the final model for deployment."
   ]
  },
  {
   "cell_type": "code",
   "execution_count": 37,
   "metadata": {
    "id": "sWxdNTXNpUZe"
   },
   "outputs": [
    {
     "name": "stdout",
     "output_type": "stream",
     "text": [
      "\n",
      "Data successfully split into Training and Testing sets.\n",
      "--- Starting Model Training and Evaluation ---\n",
      "\n",
      "--- Linear Regression ---\n",
      "RMSE: 33.01 minutes\n",
      "R-squared: 0.5857\n",
      "\n",
      "--- Decision Tree Regressor ---\n",
      "RMSE: 30.70 minutes\n",
      "R-squared: 0.6416\n",
      "\n",
      "--- Random Forest Regressor ---\n",
      "RMSE: 22.77 minutes\n",
      "R-squared: 0.8029\n",
      "\n",
      "--- Model Comparison Summary ---\n",
      "                              RMSE  R2_Score\n",
      "Random Forest Regressor  22.769223  0.802862\n",
      "Decision Tree Regressor  30.700549  0.641602\n",
      "Linear Regression        33.008576  0.585688\n",
      "\n",
      "--- FINAL STEP ---\n",
      "Best model (Random Forest Pipeline) saved successfully to 'final_delivery_time_prediction_model.pkl'.\n"
     ]
    }
   ],
   "source": [
    "# --- 1. Define Features (X) and Target (y) ---\n",
    "# Drop all raw/redundant/intermediary columns\n",
    "X = df.drop(columns=[\n",
    "    'Delivery_Time', 'Order_ID', 'Store_Latitude', 'Store_Longitude', \n",
    "    'Drop_Latitude', 'Drop_Longitude', 'Order_Date', 'Order_Time', \n",
    "    'Pickup_Time', 'Order_Time_dt', 'Pickup_Time_dt' \n",
    "])\n",
    "y = df['Delivery_Time']\n",
    "\n",
    "# --- 2. Identify Column Types for Preprocessing ---\n",
    "numerical_features = ['Distance_km', 'Agent_Age', 'Agent_Rating', 'Order_Hour', 'Day_of_Week']\n",
    "categorical_features = ['Weather', 'Traffic', 'Vehicle', 'Area', 'Category', 'Order_Time_Category'] \n",
    "\n",
    "# --- 3. Create the Preprocessing Pipeline (ColumnTransformer) ---\n",
    "preprocessor = ColumnTransformer(\n",
    "    transformers=[\n",
    "        ('num', StandardScaler(), numerical_features),\n",
    "        ('cat', OneHotEncoder(handle_unknown='ignore', sparse_output=False), categorical_features)\n",
    "    ],\n",
    "    remainder='passthrough' \n",
    ")\n",
    "\n",
    "# --- 4. Split the data (80% train, 20% test) ---\n",
    "X_train, X_test, y_train, y_test = train_test_split(X, y, test_size=0.2, random_state=42)\n",
    "print(\"\\nData successfully split into Training and Testing sets.\")\n",
    "\n",
    "# --- 5. Model Training and Evaluation ---\n",
    "models = {\n",
    "    \"Linear Regression\": LinearRegression(),\n",
    "    \"Decision Tree Regressor\": DecisionTreeRegressor(random_state=42),\n",
    "    \"Random Forest Regressor\": RandomForestRegressor(n_estimators=150, random_state=42, n_jobs=-1)\n",
    "}\n",
    "\n",
    "results = {}\n",
    "\n",
    "print(\"--- Starting Model Training and Evaluation ---\")\n",
    "\n",
    "for name, model in models.items():\n",
    "    # Create the full pipeline: Preprocessor + Model\n",
    "    full_pipeline = Pipeline(steps=[('preprocessor', preprocessor),\n",
    "                                    ('regressor', model)])\n",
    "    \n",
    "    # Train the model\n",
    "    full_pipeline.fit(X_train, y_train)\n",
    "    \n",
    "    # Predict and evaluate\n",
    "    y_pred = full_pipeline.predict(X_test)\n",
    "    rmse = np.sqrt(mean_squared_error(y_test, y_pred))\n",
    "    r2 = r2_score(y_test, y_pred)\n",
    "    \n",
    "    results[name] = {'RMSE': rmse, 'R2_Score': r2}\n",
    "    \n",
    "    print(f\"\\n--- {name} ---\")\n",
    "    print(f\"RMSE: {rmse:.2f} minutes\")\n",
    "    print(f\"R-squared: {r2:.4f}\")\n",
    "\n",
    "# Display comparison table\n",
    "results_df = pd.DataFrame(results).T\n",
    "print(\"\\n--- Model Comparison Summary ---\")\n",
    "print(results_df.sort_values(by='R2_Score', ascending=False))\n",
    "\n",
    "# --- 6. Select and Save the Best Model (Random Forest) ---\n",
    "# Assuming Random Forest is the best based on R2 and RMSE\n",
    "\n",
    "# Re-define the best model pipeline one last time for clarity\n",
    "best_model = RandomForestRegressor(n_estimators=150, random_state=42, n_jobs=-1)\n",
    "final_pipeline = Pipeline(steps=[('preprocessor', preprocessor),\n",
    "                                 ('regressor', best_model)])\n",
    "\n",
    "final_pipeline.fit(X, y) # Train the final model on ALL data\n",
    "\n",
    "# Save the final, trained pipeline\n",
    "joblib.dump(final_pipeline, 'final_delivery_time_prediction_model.pkl') \n",
    "\n",
    "print(\"\\n--- FINAL STEP ---\")\n",
    "print(\"Best model (Random Forest Pipeline) saved successfully to 'final_delivery_time_prediction_model.pkl'.\")"
   ]
  },
  {
   "cell_type": "markdown",
   "metadata": {},
   "source": [
    "### **7. Conclusion and Future Scope**"
   ]
  },
  {
   "cell_type": "markdown",
   "metadata": {},
   "source": [
    "**Project Conclusion and Model Performance Summary**\n",
    "\n",
    "- **Key Insight Validation**: **Confirmed Haversine Distance and Traffic Density** as the most influential factors, successfully engineering them into predictive features.\n",
    "\n",
    "- **Best Model Selection**: The **Random Forest Regressor** was chosen as the final model due to its superior performance in capturing complex, non-linear feature interactions.\n",
    "\n",
    "- **Superior Performance**: The Random Forest model achieved the **lowest RMSE** (Root Mean Squared Error) and the **highest** **$\\text{R}^2$ Score** on the test set, demonstrating strong predictive accuracy and generalization.\n",
    "\n",
    "- **Model Readiness**: The final, complete prediction workflow was serialized and saved as f*inal_delivery_time_prediction_model.pkl*, making the pipeline ready for immediate deployment.\n",
    "\n",
    "- **Business Value**: The model provides a **stable and accurate tool** for setting realistic customer ETAs and optimizing logistics resource allocation."
   ]
  },
  {
   "cell_type": "markdown",
   "metadata": {},
   "source": [
    "**Deployment Summary**\n",
    "\n",
    "The final, high-performing predictive pipeline has been prepared for production integration:\n",
    "\n",
    "1. **Serialization**: The entire trained workflow (including the *ColumnTransformer* and the final **Random Forest Regressor**) **was saved using the** ***joblib*** **library**.\n",
    "\n",
    "2. **Model File**: The resulting file, *final_delivery_time_prediction_model.pkl*, encapsulates everything needed for prediction.\n",
    "\n",
    "3. **Application Integration**: This file is integrated into a **Streamlit application**, which serves as the user interface allowing logistics managers to input real-time parameters and instantly receive the model's predicted delivery time."
   ]
  },
  {
   "cell_type": "markdown",
   "metadata": {},
   "source": [
    "**Future Scope and Model Improvements** \n",
    "\n",
    "While the current Random Forest model provides strong predictive capabilities, several enhancements can be implemented in the future to significantly improve accuracy, robustness, and operational utility:\n",
    "\n",
    "1. Geospatial Data Enhancement (Critical Improvement):\n",
    "\n",
    "Road Network Distance: Replace the theoretical Haversine (straight-line) distance with actual road network distance data (e.g., using APIs like Google Maps or OpenRouteService). This accounts for real-world barriers like rivers, one-way streets, and complex urban routing, which will directly reduce the largest source of error.\n",
    "\n",
    "Topographical Features: Incorporate features related to elevation changes along the route, as hill climbs can significantly impact vehicle speed and delivery time.\n",
    "\n",
    "2. Model Optimization:\n",
    "\n",
    "Hyperparameter Tuning: Systematically optimize the Random Forest Regressor's hyperparameters (e.g., n_estimators, max_depth, min_samples_leaf) using automated techniques like Grid Search or Randomized Search to fine-tune the model and achieve the absolute lowest possible RMSE.\n",
    "\n",
    "Alternative Models: Evaluate more sophisticated models like XGBoost or LightGBM, which are often superior to standard Random Forest in structured data competitions.\n",
    "\n",
    "3. Real-Time Data Integration:\n",
    "\n",
    "Dynamic Traffic Feeds: Move beyond static categorical traffic density ('Low', 'Jam') by integrating a feed of real-time traffic speed data. This allows the model to adjust predictions dynamically based on current, live road conditions.\n",
    "\n",
    "Live Agent Status: Integrate data on the agent's real-time location and speed (if permissible) to track deviations from the predicted route and adjust the ETA instantly.\n",
    "\n",
    "4. External Contextual Data:\n",
    "\n",
    "Local Events: Incorporate features detailing local events (marathons, parades, stadium events) which cause predictable, yet unscheduled, traffic spikes.\n",
    "\n",
    "Detailed Weather: Use granular weather forecast data (e.g., specific rainfall intensity, snow accumulation) instead of broad weather categories to capture nuanced impacts on driving speed."
   ]
  }
 ],
 "metadata": {
  "colab": {
   "collapsed_sections": [
    "vncDsAP0Gaoa",
    "FJNUwmbgGyua",
    "w6K7xa23Elo4",
    "yQaldy8SH6Dl",
    "mDgbUHAGgjLW",
    "O_i_v8NEhb9l",
    "HhfV-JJviCcP",
    "Y3lxredqlCYt",
    "3RnN4peoiCZX",
    "x71ZqKXriCWQ",
    "7hBIi_osiCS2",
    "JlHwYmJAmNHm",
    "35m5QtbWiB9F",
    "PoPl-ycgm1ru",
    "H0kj-8xxnORC",
    "nA9Y7ga8ng1Z",
    "PBTbrJXOngz2",
    "u3PMJOP6ngxN",
    "dauF4eBmngu3",
    "bKJF3rekwFvQ",
    "MSa1f5Uengrz",
    "GF8Ens_Soomf",
    "0wOQAZs5pc--",
    "K5QZ13OEpz2H",
    "lQ7QKXXCp7Bj",
    "448CDAPjqfQr",
    "KSlN3yHqYklG",
    "t6dVpIINYklI",
    "ijmpgYnKYklI",
    "-JiQyfWJYklI",
    "EM7whBJCYoAo",
    "fge-S5ZAYoAp",
    "85gYPyotYoAp",
    "RoGjAbkUYoAp",
    "4Of9eVA-YrdM",
    "iky9q4vBYrdO",
    "F6T5p64dYrdO",
    "y-Ehk30pYrdP",
    "bamQiAODYuh1",
    "QHF8YVU7Yuh3",
    "GwzvFGzlYuh3",
    "qYpmQ266Yuh3",
    "OH-pJp9IphqM",
    "bbFf2-_FphqN",
    "_ouA3fa0phqN",
    "Seke61FWphqN",
    "PIIx-8_IphqN",
    "t27r6nlMphqO",
    "r2jJGEOYphqO",
    "b0JNsNcRphqO",
    "BZR9WyysphqO",
    "jj7wYXLtphqO",
    "eZrbJ2SmphqO",
    "rFu4xreNphqO",
    "YJ55k-q6phqO",
    "gCFgpxoyphqP",
    "OVtJsKN_phqQ",
    "lssrdh5qphqQ",
    "U2RJ9gkRphqQ",
    "1M8mcRywphqQ",
    "tgIPom80phqQ",
    "JMzcOPDDphqR",
    "x-EpHcCOp1ci",
    "X_VqEhTip1ck",
    "8zGJKyg5p1ck",
    "PVzmfK_Ep1ck",
    "n3dbpmDWp1ck",
    "ylSl6qgtp1ck",
    "ZWILFDl5p1ck",
    "M7G43BXep1ck",
    "Ag9LCva-p1cl",
    "E6MkPsBcp1cl",
    "2cELzS2fp1cl",
    "3MPXvC8up1cl",
    "NC_X3p0fY2L0",
    "UV0SzAkaZNRQ",
    "YPEH6qLeZNRQ",
    "q29F0dvdveiT",
    "EXh0U9oCveiU",
    "22aHeOlLveiV",
    "g-ATYxFrGrvw",
    "Yfr_Vlr8HBkt",
    "8yEUt7NnHlrM",
    "tEA2Xm5dHt1r",
    "I79__PHVH19G",
    "Ou-I18pAyIpj",
    "fF3858GYyt-u",
    "4_0_7-oCpUZd",
    "hwyV_J3ipUZe",
    "3yB-zSqbpUZe",
    "dEUvejAfpUZe",
    "Fd15vwWVpUZf",
    "bn_IUdTipZyH",
    "49K5P_iCpZyH",
    "Nff-vKELpZyI",
    "kLW572S8pZyI",
    "dWbDXHzopZyI",
    "yLjJCtPM0KBk",
    "xiyOF9F70UgQ",
    "7wuGOrhz0itI",
    "id1riN9m0vUs",
    "578E2V7j08f6",
    "89xtkJwZ18nB",
    "67NQN5KX2AMe",
    "Iwf50b-R2tYG",
    "GMQiZwjn3iu7",
    "WVIkgGqN3qsr",
    "XkPnILGE3zoT",
    "Hlsf0x5436Go",
    "mT9DMSJo4nBL",
    "c49ITxTc407N",
    "OeJFEK0N496M",
    "9ExmJH0g5HBk",
    "cJNqERVU536h",
    "k5UmGsbsOxih",
    "T0VqWOYE6DLQ",
    "qBMux9mC6MCf",
    "-oLEiFgy-5Pf",
    "C74aWNz2AliB",
    "2DejudWSA-a0",
    "pEMng2IbBLp7",
    "rAdphbQ9Bhjc",
    "TNVZ9zx19K6k",
    "nqoHp30x9hH9",
    "rMDnDkt2B6du",
    "yiiVWRdJDDil",
    "1UUpS68QDMuG",
    "kexQrXU-DjzY",
    "T5CmagL3EC8N",
    "BhH2vgX9EjGr",
    "qjKvONjwE8ra",
    "P1XJ9OREExlT",
    "VFOzZv6IFROw",
    "TIqpNgepFxVj",
    "VfCC591jGiD4",
    "OB4l2ZhMeS1U",
    "ArJBuiUVfxKd",
    "4qY1EAkEfxKe",
    "PiV4Ypx8fxKe",
    "TfvqoZmBfxKf",
    "dJ2tPlVmpsJ0",
    "JWYfwnehpsJ1",
    "-jK_YjpMpsJ2",
    "HAih1iBOpsJ2",
    "zVGeBEFhpsJ2",
    "bmKjuQ-FpsJ3",
    "Fze-IPXLpx6K",
    "7AN1z2sKpx6M",
    "9PIHJqyupx6M",
    "_-qAgymDpx6N",
    "Z-hykwinpx6N",
    "h_CCil-SKHpo",
    "cBFFvTBNJzUa",
    "HvGl1hHyA_VK",
    "EyNgTHvd2WFk",
    "KH5McJBi2d8v",
    "iW_Lq9qf2h6X",
    "-Kee-DAl2viO",
    "gCX9965dhzqZ",
    "gIfDvo9L0UH2"
   ],
   "private_outputs": true,
   "provenance": []
  },
  "kernelspec": {
   "display_name": "ml-env",
   "language": "python",
   "name": "ml-env"
  },
  "language_info": {
   "codemirror_mode": {
    "name": "ipython",
    "version": 3
   },
   "file_extension": ".py",
   "mimetype": "text/x-python",
   "name": "python",
   "nbconvert_exporter": "python",
   "pygments_lexer": "ipython3",
   "version": "3.11.4"
  }
 },
 "nbformat": 4,
 "nbformat_minor": 0
}
